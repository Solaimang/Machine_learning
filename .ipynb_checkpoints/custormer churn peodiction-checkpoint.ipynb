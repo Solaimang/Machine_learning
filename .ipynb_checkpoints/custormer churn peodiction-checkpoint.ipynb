{
 "cells": [
  {
   "cell_type": "code",
   "execution_count": 4,
   "id": "368b5375",
   "metadata": {},
   "outputs": [],
   "source": [
    "import numpy as np\n",
    "import pandas as pd\n",
    "import matplotlib.pyplot as plt\n",
    "import seaborn as sas\n"
   ]
  },
  {
   "cell_type": "code",
   "execution_count": 5,
   "id": "0b4d9305",
   "metadata": {},
   "outputs": [],
   "source": [
    "df = pd.read_csv(\"cardio.csv\")"
   ]
  },
  {
   "cell_type": "code",
   "execution_count": 6,
   "id": "3e0605c5",
   "metadata": {},
   "outputs": [
    {
     "data": {
      "text/html": [
       "<div>\n",
       "<style scoped>\n",
       "    .dataframe tbody tr th:only-of-type {\n",
       "        vertical-align: middle;\n",
       "    }\n",
       "\n",
       "    .dataframe tbody tr th {\n",
       "        vertical-align: top;\n",
       "    }\n",
       "\n",
       "    .dataframe thead th {\n",
       "        text-align: right;\n",
       "    }\n",
       "</style>\n",
       "<table border=\"1\" class=\"dataframe\">\n",
       "  <thead>\n",
       "    <tr style=\"text-align: right;\">\n",
       "      <th></th>\n",
       "      <th>id</th>\n",
       "      <th>age</th>\n",
       "      <th>gender</th>\n",
       "      <th>height</th>\n",
       "      <th>weight</th>\n",
       "      <th>ap_hi</th>\n",
       "      <th>ap_io</th>\n",
       "      <th>cholesteral</th>\n",
       "      <th>glue</th>\n",
       "      <th>smoke</th>\n",
       "      <th>alco</th>\n",
       "      <th>active</th>\n",
       "      <th>cardio</th>\n",
       "    </tr>\n",
       "  </thead>\n",
       "  <tbody>\n",
       "    <tr>\n",
       "      <th>0</th>\n",
       "      <td>1</td>\n",
       "      <td>20</td>\n",
       "      <td>2</td>\n",
       "      <td>168</td>\n",
       "      <td>62.5</td>\n",
       "      <td>123</td>\n",
       "      <td>80</td>\n",
       "      <td>2</td>\n",
       "      <td>0</td>\n",
       "      <td>1</td>\n",
       "      <td>0</td>\n",
       "      <td>1</td>\n",
       "      <td>0</td>\n",
       "    </tr>\n",
       "    <tr>\n",
       "      <th>1</th>\n",
       "      <td>2</td>\n",
       "      <td>34</td>\n",
       "      <td>1</td>\n",
       "      <td>145</td>\n",
       "      <td>64.2</td>\n",
       "      <td>121</td>\n",
       "      <td>90</td>\n",
       "      <td>1</td>\n",
       "      <td>0</td>\n",
       "      <td>1</td>\n",
       "      <td>0</td>\n",
       "      <td>0</td>\n",
       "      <td>1</td>\n",
       "    </tr>\n",
       "    <tr>\n",
       "      <th>2</th>\n",
       "      <td>3</td>\n",
       "      <td>56</td>\n",
       "      <td>1</td>\n",
       "      <td>156</td>\n",
       "      <td>65.3</td>\n",
       "      <td>102</td>\n",
       "      <td>60</td>\n",
       "      <td>2</td>\n",
       "      <td>0</td>\n",
       "      <td>0</td>\n",
       "      <td>0</td>\n",
       "      <td>1</td>\n",
       "      <td>1</td>\n",
       "    </tr>\n",
       "    <tr>\n",
       "      <th>3</th>\n",
       "      <td>4</td>\n",
       "      <td>34</td>\n",
       "      <td>2</td>\n",
       "      <td>165</td>\n",
       "      <td>70.3</td>\n",
       "      <td>107</td>\n",
       "      <td>78</td>\n",
       "      <td>2</td>\n",
       "      <td>0</td>\n",
       "      <td>0</td>\n",
       "      <td>1</td>\n",
       "      <td>0</td>\n",
       "      <td>0</td>\n",
       "    </tr>\n",
       "    <tr>\n",
       "      <th>4</th>\n",
       "      <td>5</td>\n",
       "      <td>65</td>\n",
       "      <td>2</td>\n",
       "      <td>168</td>\n",
       "      <td>80.3</td>\n",
       "      <td>104</td>\n",
       "      <td>89</td>\n",
       "      <td>1</td>\n",
       "      <td>0</td>\n",
       "      <td>0</td>\n",
       "      <td>1</td>\n",
       "      <td>1</td>\n",
       "      <td>1</td>\n",
       "    </tr>\n",
       "    <tr>\n",
       "      <th>...</th>\n",
       "      <td>...</td>\n",
       "      <td>...</td>\n",
       "      <td>...</td>\n",
       "      <td>...</td>\n",
       "      <td>...</td>\n",
       "      <td>...</td>\n",
       "      <td>...</td>\n",
       "      <td>...</td>\n",
       "      <td>...</td>\n",
       "      <td>...</td>\n",
       "      <td>...</td>\n",
       "      <td>...</td>\n",
       "      <td>...</td>\n",
       "    </tr>\n",
       "    <tr>\n",
       "      <th>173</th>\n",
       "      <td>183</td>\n",
       "      <td>82</td>\n",
       "      <td>1</td>\n",
       "      <td>163</td>\n",
       "      <td>43.6</td>\n",
       "      <td>123</td>\n",
       "      <td>93</td>\n",
       "      <td>1</td>\n",
       "      <td>0</td>\n",
       "      <td>2</td>\n",
       "      <td>1</td>\n",
       "      <td>1</td>\n",
       "      <td>1</td>\n",
       "    </tr>\n",
       "    <tr>\n",
       "      <th>174</th>\n",
       "      <td>184</td>\n",
       "      <td>73</td>\n",
       "      <td>2</td>\n",
       "      <td>138</td>\n",
       "      <td>123.4</td>\n",
       "      <td>176</td>\n",
       "      <td>84</td>\n",
       "      <td>2</td>\n",
       "      <td>0</td>\n",
       "      <td>0</td>\n",
       "      <td>0</td>\n",
       "      <td>0</td>\n",
       "      <td>0</td>\n",
       "    </tr>\n",
       "    <tr>\n",
       "      <th>175</th>\n",
       "      <td>185</td>\n",
       "      <td>92</td>\n",
       "      <td>1</td>\n",
       "      <td>145</td>\n",
       "      <td>65.3</td>\n",
       "      <td>123</td>\n",
       "      <td>96</td>\n",
       "      <td>2</td>\n",
       "      <td>1</td>\n",
       "      <td>0</td>\n",
       "      <td>1</td>\n",
       "      <td>1</td>\n",
       "      <td>1</td>\n",
       "    </tr>\n",
       "    <tr>\n",
       "      <th>176</th>\n",
       "      <td>186</td>\n",
       "      <td>29</td>\n",
       "      <td>2</td>\n",
       "      <td>123</td>\n",
       "      <td>70.3</td>\n",
       "      <td>180</td>\n",
       "      <td>85</td>\n",
       "      <td>2</td>\n",
       "      <td>0</td>\n",
       "      <td>1</td>\n",
       "      <td>1</td>\n",
       "      <td>0</td>\n",
       "      <td>0</td>\n",
       "    </tr>\n",
       "    <tr>\n",
       "      <th>177</th>\n",
       "      <td>187</td>\n",
       "      <td>19</td>\n",
       "      <td>1</td>\n",
       "      <td>145</td>\n",
       "      <td>80.3</td>\n",
       "      <td>145</td>\n",
       "      <td>87</td>\n",
       "      <td>3</td>\n",
       "      <td>1</td>\n",
       "      <td>0</td>\n",
       "      <td>0</td>\n",
       "      <td>1</td>\n",
       "      <td>1</td>\n",
       "    </tr>\n",
       "  </tbody>\n",
       "</table>\n",
       "<p>178 rows × 13 columns</p>\n",
       "</div>"
      ],
      "text/plain": [
       "      id  age  gender  height  weight  ap_hi  ap_io  cholesteral  glue  smoke  \\\n",
       "0      1   20       2     168    62.5    123     80            2     0      1   \n",
       "1      2   34       1     145    64.2    121     90            1     0      1   \n",
       "2      3   56       1     156    65.3    102     60            2     0      0   \n",
       "3      4   34       2     165    70.3    107     78            2     0      0   \n",
       "4      5   65       2     168    80.3    104     89            1     0      0   \n",
       "..   ...  ...     ...     ...     ...    ...    ...          ...   ...    ...   \n",
       "173  183   82       1     163    43.6    123     93            1     0      2   \n",
       "174  184   73       2     138   123.4    176     84            2     0      0   \n",
       "175  185   92       1     145    65.3    123     96            2     1      0   \n",
       "176  186   29       2     123    70.3    180     85            2     0      1   \n",
       "177  187   19       1     145    80.3    145     87            3     1      0   \n",
       "\n",
       "     alco  active  cardio  \n",
       "0       0       1       0  \n",
       "1       0       0       1  \n",
       "2       0       1       1  \n",
       "3       1       0       0  \n",
       "4       1       1       1  \n",
       "..    ...     ...     ...  \n",
       "173     1       1       1  \n",
       "174     0       0       0  \n",
       "175     1       1       1  \n",
       "176     1       0       0  \n",
       "177     0       1       1  \n",
       "\n",
       "[178 rows x 13 columns]"
      ]
     },
     "execution_count": 6,
     "metadata": {},
     "output_type": "execute_result"
    }
   ],
   "source": [
    "df"
   ]
  },
  {
   "cell_type": "code",
   "execution_count": 7,
   "id": "2f0ada94",
   "metadata": {},
   "outputs": [
    {
     "data": {
      "text/plain": [
       "(178, 13)"
      ]
     },
     "execution_count": 7,
     "metadata": {},
     "output_type": "execute_result"
    }
   ],
   "source": [
    "df.shape"
   ]
  },
  {
   "cell_type": "code",
   "execution_count": 8,
   "id": "48df4cd5",
   "metadata": {},
   "outputs": [
    {
     "name": "stderr",
     "output_type": "stream",
     "text": [
      "C:\\ProgramData\\Anaconda3\\lib\\site-packages\\seaborn\\_decorators.py:36: FutureWarning: Pass the following variable as a keyword arg: x. From version 0.12, the only valid positional argument will be `data`, and passing other arguments without an explicit keyword will result in an error or misinterpretation.\n",
      "  warnings.warn(\n"
     ]
    },
    {
     "data": {
      "text/plain": [
       "<AxesSubplot:xlabel='cardio', ylabel='count'>"
      ]
     },
     "execution_count": 8,
     "metadata": {},
     "output_type": "execute_result"
    },
    {
     "data": {
      "image/png": "[encoded data removed]",
      "text/plain": [
       "<Figure size 432x288 with 1 Axes>"
      ]
     },
     "metadata": {
      "needs_background": "light"
     },
     "output_type": "display_data"
    }
   ],
   "source": [
    "sas.countplot(df['cardio'])"
   ]
  },
  {
   "cell_type": "code",
   "execution_count": 9,
   "id": "33e34ed0",
   "metadata": {},
   "outputs": [
    {
     "data": {
      "text/plain": [
       "1    92\n",
       "0    86\n",
       "Name: cardio, dtype: int64"
      ]
     },
     "execution_count": 9,
     "metadata": {},
     "output_type": "execute_result"
    }
   ],
   "source": [
    "df['cardio'].value_counts()"
   ]
  },
  {
   "cell_type": "code",
   "execution_count": 10,
   "id": "81ba11f0",
   "metadata": {},
   "outputs": [],
   "source": [
    "churned = df[df.cardio==1].shape[0]#churned =92\n",
    "\n",
    "retained = df[df.cardio==0].shape[0]#retained = 86"
   ]
  },
  {
   "cell_type": "code",
   "execution_count": 11,
   "id": "ce0fea7b",
   "metadata": {},
   "outputs": [],
   "source": [
    "ch_per=((churned/(churned+retained))*100)"
   ]
  },
  {
   "cell_type": "code",
   "execution_count": 12,
   "id": "b4ba5bb0",
   "metadata": {},
   "outputs": [
    {
     "data": {
      "text/plain": [
       "51.68539325842697"
      ]
     },
     "execution_count": 12,
     "metadata": {},
     "output_type": "execute_result"
    }
   ],
   "source": [
    "ch_per"
   ]
  },
  {
   "cell_type": "code",
   "execution_count": 13,
   "id": "18759a96",
   "metadata": {},
   "outputs": [],
   "source": [
    "re_per = ((retained/(churned+retained))*100)"
   ]
  },
  {
   "cell_type": "code",
   "execution_count": 14,
   "id": "cbc0c3e8",
   "metadata": {},
   "outputs": [
    {
     "data": {
      "text/plain": [
       "48.31460674157304"
      ]
     },
     "execution_count": 14,
     "metadata": {},
     "output_type": "execute_result"
    }
   ],
   "source": [
    "re_per"
   ]
  },
  {
   "cell_type": "code",
   "execution_count": 15,
   "id": "8f59da5e",
   "metadata": {},
   "outputs": [
    {
     "data": {
      "text/plain": [
       "id             0\n",
       "age            0\n",
       "gender         0\n",
       "height         0\n",
       "weight         0\n",
       "ap_hi          0\n",
       "ap_io          0\n",
       "cholesteral    0\n",
       "glue           0\n",
       "smoke          0\n",
       "alco           0\n",
       "active         0\n",
       "cardio         0\n",
       "dtype: int64"
      ]
     },
     "execution_count": 15,
     "metadata": {},
     "output_type": "execute_result"
    }
   ],
   "source": [
    "df.isnull().sum()"
   ]
  },
  {
   "cell_type": "code",
   "execution_count": 16,
   "id": "11f3b08d",
   "metadata": {},
   "outputs": [
    {
     "data": {
      "text/html": [
       "<div>\n",
       "<style scoped>\n",
       "    .dataframe tbody tr th:only-of-type {\n",
       "        vertical-align: middle;\n",
       "    }\n",
       "\n",
       "    .dataframe tbody tr th {\n",
       "        vertical-align: top;\n",
       "    }\n",
       "\n",
       "    .dataframe thead th {\n",
       "        text-align: right;\n",
       "    }\n",
       "</style>\n",
       "<table border=\"1\" class=\"dataframe\">\n",
       "  <thead>\n",
       "    <tr style=\"text-align: right;\">\n",
       "      <th></th>\n",
       "      <th>id</th>\n",
       "      <th>age</th>\n",
       "      <th>gender</th>\n",
       "      <th>height</th>\n",
       "      <th>weight</th>\n",
       "      <th>ap_hi</th>\n",
       "      <th>ap_io</th>\n",
       "      <th>cholesteral</th>\n",
       "      <th>glue</th>\n",
       "      <th>smoke</th>\n",
       "      <th>alco</th>\n",
       "      <th>active</th>\n",
       "      <th>cardio</th>\n",
       "    </tr>\n",
       "  </thead>\n",
       "  <tbody>\n",
       "    <tr>\n",
       "      <th>count</th>\n",
       "      <td>178.000000</td>\n",
       "      <td>178.000000</td>\n",
       "      <td>178.000000</td>\n",
       "      <td>178.000000</td>\n",
       "      <td>178.000000</td>\n",
       "      <td>178.000000</td>\n",
       "      <td>178.000000</td>\n",
       "      <td>178.000000</td>\n",
       "      <td>178.000000</td>\n",
       "      <td>178.000000</td>\n",
       "      <td>178.000000</td>\n",
       "      <td>178.000000</td>\n",
       "      <td>178.000000</td>\n",
       "    </tr>\n",
       "    <tr>\n",
       "      <th>mean</th>\n",
       "      <td>94.157303</td>\n",
       "      <td>60.230337</td>\n",
       "      <td>1.561798</td>\n",
       "      <td>160.719101</td>\n",
       "      <td>78.348315</td>\n",
       "      <td>149.438202</td>\n",
       "      <td>75.477528</td>\n",
       "      <td>1.674157</td>\n",
       "      <td>0.651685</td>\n",
       "      <td>0.702247</td>\n",
       "      <td>0.606742</td>\n",
       "      <td>0.533708</td>\n",
       "      <td>0.516854</td>\n",
       "    </tr>\n",
       "    <tr>\n",
       "      <th>std</th>\n",
       "      <td>55.445886</td>\n",
       "      <td>41.717882</td>\n",
       "      <td>0.497566</td>\n",
       "      <td>26.961990</td>\n",
       "      <td>20.361763</td>\n",
       "      <td>35.431945</td>\n",
       "      <td>25.903385</td>\n",
       "      <td>0.701496</td>\n",
       "      <td>0.706725</td>\n",
       "      <td>0.693876</td>\n",
       "      <td>0.594095</td>\n",
       "      <td>0.500270</td>\n",
       "      <td>0.501126</td>\n",
       "    </tr>\n",
       "    <tr>\n",
       "      <th>min</th>\n",
       "      <td>1.000000</td>\n",
       "      <td>19.000000</td>\n",
       "      <td>1.000000</td>\n",
       "      <td>102.000000</td>\n",
       "      <td>43.600000</td>\n",
       "      <td>1.000000</td>\n",
       "      <td>0.000000</td>\n",
       "      <td>0.000000</td>\n",
       "      <td>0.000000</td>\n",
       "      <td>0.000000</td>\n",
       "      <td>0.000000</td>\n",
       "      <td>0.000000</td>\n",
       "      <td>0.000000</td>\n",
       "    </tr>\n",
       "    <tr>\n",
       "      <th>25%</th>\n",
       "      <td>45.250000</td>\n",
       "      <td>33.000000</td>\n",
       "      <td>1.000000</td>\n",
       "      <td>145.000000</td>\n",
       "      <td>67.100000</td>\n",
       "      <td>132.000000</td>\n",
       "      <td>75.000000</td>\n",
       "      <td>1.000000</td>\n",
       "      <td>0.000000</td>\n",
       "      <td>0.000000</td>\n",
       "      <td>0.000000</td>\n",
       "      <td>0.000000</td>\n",
       "      <td>0.000000</td>\n",
       "    </tr>\n",
       "    <tr>\n",
       "      <th>50%</th>\n",
       "      <td>95.000000</td>\n",
       "      <td>54.000000</td>\n",
       "      <td>2.000000</td>\n",
       "      <td>162.000000</td>\n",
       "      <td>71.000000</td>\n",
       "      <td>145.000000</td>\n",
       "      <td>84.000000</td>\n",
       "      <td>2.000000</td>\n",
       "      <td>1.000000</td>\n",
       "      <td>1.000000</td>\n",
       "      <td>1.000000</td>\n",
       "      <td>1.000000</td>\n",
       "      <td>1.000000</td>\n",
       "    </tr>\n",
       "    <tr>\n",
       "      <th>75%</th>\n",
       "      <td>142.750000</td>\n",
       "      <td>76.000000</td>\n",
       "      <td>2.000000</td>\n",
       "      <td>178.000000</td>\n",
       "      <td>89.300000</td>\n",
       "      <td>176.000000</td>\n",
       "      <td>93.000000</td>\n",
       "      <td>2.000000</td>\n",
       "      <td>1.000000</td>\n",
       "      <td>1.000000</td>\n",
       "      <td>1.000000</td>\n",
       "      <td>1.000000</td>\n",
       "      <td>1.000000</td>\n",
       "    </tr>\n",
       "    <tr>\n",
       "      <th>max</th>\n",
       "      <td>187.000000</td>\n",
       "      <td>254.000000</td>\n",
       "      <td>2.000000</td>\n",
       "      <td>231.000000</td>\n",
       "      <td>123.400000</td>\n",
       "      <td>198.000000</td>\n",
       "      <td>98.000000</td>\n",
       "      <td>3.000000</td>\n",
       "      <td>2.000000</td>\n",
       "      <td>2.000000</td>\n",
       "      <td>2.000000</td>\n",
       "      <td>1.000000</td>\n",
       "      <td>1.000000</td>\n",
       "    </tr>\n",
       "  </tbody>\n",
       "</table>\n",
       "</div>"
      ],
      "text/plain": [
       "               id         age      gender      height      weight       ap_hi  \\\n",
       "count  178.000000  178.000000  178.000000  178.000000  178.000000  178.000000   \n",
       "mean    94.157303   60.230337    1.561798  160.719101   78.348315  149.438202   \n",
       "std     55.445886   41.717882    0.497566   26.961990   20.361763   35.431945   \n",
       "min      1.000000   19.000000    1.000000  102.000000   43.600000    1.000000   \n",
       "25%     45.250000   33.000000    1.000000  145.000000   67.100000  132.000000   \n",
       "50%     95.000000   54.000000    2.000000  162.000000   71.000000  145.000000   \n",
       "75%    142.750000   76.000000    2.000000  178.000000   89.300000  176.000000   \n",
       "max    187.000000  254.000000    2.000000  231.000000  123.400000  198.000000   \n",
       "\n",
       "            ap_io  cholesteral        glue       smoke        alco  \\\n",
       "count  178.000000   178.000000  178.000000  178.000000  178.000000   \n",
       "mean    75.477528     1.674157    0.651685    0.702247    0.606742   \n",
       "std     25.903385     0.701496    0.706725    0.693876    0.594095   \n",
       "min      0.000000     0.000000    0.000000    0.000000    0.000000   \n",
       "25%     75.000000     1.000000    0.000000    0.000000    0.000000   \n",
       "50%     84.000000     2.000000    1.000000    1.000000    1.000000   \n",
       "75%     93.000000     2.000000    1.000000    1.000000    1.000000   \n",
       "max     98.000000     3.000000    2.000000    2.000000    2.000000   \n",
       "\n",
       "           active      cardio  \n",
       "count  178.000000  178.000000  \n",
       "mean     0.533708    0.516854  \n",
       "std      0.500270    0.501126  \n",
       "min      0.000000    0.000000  \n",
       "25%      0.000000    0.000000  \n",
       "50%      1.000000    1.000000  \n",
       "75%      1.000000    1.000000  \n",
       "max      1.000000    1.000000  "
      ]
     },
     "execution_count": 16,
     "metadata": {},
     "output_type": "execute_result"
    }
   ],
   "source": [
    "df.describe()"
   ]
  },
  {
   "cell_type": "code",
   "execution_count": 17,
   "id": "351907e2",
   "metadata": {},
   "outputs": [
    {
     "data": {
      "text/plain": [
       "<AxesSubplot:xlabel='gender', ylabel='count'>"
      ]
     },
     "execution_count": 17,
     "metadata": {},
     "output_type": "execute_result"
    },
    {
     "data": {
      "image/png": "[encoded data removed]",
      "text/plain": [
       "<Figure size 432x288 with 1 Axes>"
      ]
     },
     "metadata": {
      "needs_background": "light"
     },
     "output_type": "display_data"
    }
   ],
   "source": [
    "sas.countplot(x='gender',hue='cardio',data = df)"
   ]
  },
  {
   "cell_type": "code",
   "execution_count": 18,
   "id": "5ec999ab",
   "metadata": {},
   "outputs": [
    {
     "data": {
      "text/plain": [
       "2    100\n",
       "1     78\n",
       "Name: gender, dtype: int64"
      ]
     },
     "execution_count": 18,
     "metadata": {},
     "output_type": "execute_result"
    }
   ],
   "source": [
    "df['gender'].value_counts()"
   ]
  },
  {
   "cell_type": "code",
   "execution_count": 19,
   "id": "3d1e1206",
   "metadata": {},
   "outputs": [
    {
     "data": {
      "text/plain": [
       "<AxesSubplot:xlabel='age', ylabel='count'>"
      ]
     },
     "execution_count": 19,
     "metadata": {},
     "output_type": "execute_result"
    },
    {
     "data": {
      "image/png": "[encoded data removed]",
      "text/plain": [
       "<Figure size 432x288 with 1 Axes>"
      ]
     },
     "metadata": {
      "needs_background": "light"
     },
     "output_type": "display_data"
    }
   ],
   "source": [
    "sas.countplot(x='age',hue='cardio',data =df)"
   ]
  },
  {
   "cell_type": "code",
   "execution_count": 20,
   "id": "50c44a4a",
   "metadata": {},
   "outputs": [
    {
     "data": {
      "text/plain": [
       "<AxesSubplot:xlabel='smoke', ylabel='count'>"
      ]
     },
     "execution_count": 20,
     "metadata": {},
     "output_type": "execute_result"
    },
    {
     "data": {
      "image/png": "[encoded data removed]",
      "text/plain": [
       "<Figure size 432x288 with 1 Axes>"
      ]
     },
     "metadata": {
      "needs_background": "light"
     },
     "output_type": "display_data"
    }
   ],
   "source": [
    "sas.countplot(x='smoke',hue='cardio',data= df)"
   ]
  },
  {
   "cell_type": "code",
   "execution_count": 21,
   "id": "8edf88b6",
   "metadata": {},
   "outputs": [
    {
     "data": {
      "text/plain": [
       "<AxesSubplot:xlabel='cholesteral', ylabel='count'>"
      ]
     },
     "execution_count": 21,
     "metadata": {},
     "output_type": "execute_result"
    },
    {
     "data": {
      "image/png": "[encoded data removed]",
      "text/plain": [
       "<Figure size 432x288 with 1 Axes>"
      ]
     },
     "metadata": {
      "needs_background": "light"
     },
     "output_type": "display_data"
    }
   ],
   "source": [
    "sas.countplot(x='cholesteral',hue='cardio',data =df)"
   ]
  },
  {
   "cell_type": "code",
   "execution_count": 22,
   "id": "d91669c6",
   "metadata": {},
   "outputs": [
    {
     "data": {
      "text/plain": [
       "<AxesSubplot:xlabel='weight', ylabel='count'>"
      ]
     },
     "execution_count": 22,
     "metadata": {},
     "output_type": "execute_result"
    },
    {
     "data": {
      "image/png": "[encoded data removed]",
      "text/plain": [
       "<Figure size 432x288 with 1 Axes>"
      ]
     },
     "metadata": {
      "needs_background": "light"
     },
     "output_type": "display_data"
    }
   ],
   "source": [
    "sas.countplot(x='weight',hue='cardio',data = df)"
   ]
  },
  {
   "cell_type": "code",
   "execution_count": 23,
   "id": "87326864",
   "metadata": {},
   "outputs": [
    {
     "data": {
      "text/html": [
       "<div>\n",
       "<style scoped>\n",
       "    .dataframe tbody tr th:only-of-type {\n",
       "        vertical-align: middle;\n",
       "    }\n",
       "\n",
       "    .dataframe tbody tr th {\n",
       "        vertical-align: top;\n",
       "    }\n",
       "\n",
       "    .dataframe thead th {\n",
       "        text-align: right;\n",
       "    }\n",
       "</style>\n",
       "<table border=\"1\" class=\"dataframe\">\n",
       "  <thead>\n",
       "    <tr style=\"text-align: right;\">\n",
       "      <th></th>\n",
       "      <th>age</th>\n",
       "      <th>gender</th>\n",
       "      <th>height</th>\n",
       "      <th>weight</th>\n",
       "      <th>ap_hi</th>\n",
       "      <th>ap_io</th>\n",
       "      <th>cholesteral</th>\n",
       "      <th>glue</th>\n",
       "      <th>smoke</th>\n",
       "      <th>alco</th>\n",
       "      <th>active</th>\n",
       "      <th>cardio</th>\n",
       "    </tr>\n",
       "  </thead>\n",
       "  <tbody>\n",
       "    <tr>\n",
       "      <th>0</th>\n",
       "      <td>20</td>\n",
       "      <td>2</td>\n",
       "      <td>168</td>\n",
       "      <td>62.5</td>\n",
       "      <td>123</td>\n",
       "      <td>80</td>\n",
       "      <td>2</td>\n",
       "      <td>0</td>\n",
       "      <td>1</td>\n",
       "      <td>0</td>\n",
       "      <td>1</td>\n",
       "      <td>0</td>\n",
       "    </tr>\n",
       "    <tr>\n",
       "      <th>1</th>\n",
       "      <td>34</td>\n",
       "      <td>1</td>\n",
       "      <td>145</td>\n",
       "      <td>64.2</td>\n",
       "      <td>121</td>\n",
       "      <td>90</td>\n",
       "      <td>1</td>\n",
       "      <td>0</td>\n",
       "      <td>1</td>\n",
       "      <td>0</td>\n",
       "      <td>0</td>\n",
       "      <td>1</td>\n",
       "    </tr>\n",
       "    <tr>\n",
       "      <th>2</th>\n",
       "      <td>56</td>\n",
       "      <td>1</td>\n",
       "      <td>156</td>\n",
       "      <td>65.3</td>\n",
       "      <td>102</td>\n",
       "      <td>60</td>\n",
       "      <td>2</td>\n",
       "      <td>0</td>\n",
       "      <td>0</td>\n",
       "      <td>0</td>\n",
       "      <td>1</td>\n",
       "      <td>1</td>\n",
       "    </tr>\n",
       "    <tr>\n",
       "      <th>3</th>\n",
       "      <td>34</td>\n",
       "      <td>2</td>\n",
       "      <td>165</td>\n",
       "      <td>70.3</td>\n",
       "      <td>107</td>\n",
       "      <td>78</td>\n",
       "      <td>2</td>\n",
       "      <td>0</td>\n",
       "      <td>0</td>\n",
       "      <td>1</td>\n",
       "      <td>0</td>\n",
       "      <td>0</td>\n",
       "    </tr>\n",
       "    <tr>\n",
       "      <th>4</th>\n",
       "      <td>65</td>\n",
       "      <td>2</td>\n",
       "      <td>168</td>\n",
       "      <td>80.3</td>\n",
       "      <td>104</td>\n",
       "      <td>89</td>\n",
       "      <td>1</td>\n",
       "      <td>0</td>\n",
       "      <td>0</td>\n",
       "      <td>1</td>\n",
       "      <td>1</td>\n",
       "      <td>1</td>\n",
       "    </tr>\n",
       "    <tr>\n",
       "      <th>...</th>\n",
       "      <td>...</td>\n",
       "      <td>...</td>\n",
       "      <td>...</td>\n",
       "      <td>...</td>\n",
       "      <td>...</td>\n",
       "      <td>...</td>\n",
       "      <td>...</td>\n",
       "      <td>...</td>\n",
       "      <td>...</td>\n",
       "      <td>...</td>\n",
       "      <td>...</td>\n",
       "      <td>...</td>\n",
       "    </tr>\n",
       "    <tr>\n",
       "      <th>173</th>\n",
       "      <td>82</td>\n",
       "      <td>1</td>\n",
       "      <td>163</td>\n",
       "      <td>43.6</td>\n",
       "      <td>123</td>\n",
       "      <td>93</td>\n",
       "      <td>1</td>\n",
       "      <td>0</td>\n",
       "      <td>2</td>\n",
       "      <td>1</td>\n",
       "      <td>1</td>\n",
       "      <td>1</td>\n",
       "    </tr>\n",
       "    <tr>\n",
       "      <th>174</th>\n",
       "      <td>73</td>\n",
       "      <td>2</td>\n",
       "      <td>138</td>\n",
       "      <td>123.4</td>\n",
       "      <td>176</td>\n",
       "      <td>84</td>\n",
       "      <td>2</td>\n",
       "      <td>0</td>\n",
       "      <td>0</td>\n",
       "      <td>0</td>\n",
       "      <td>0</td>\n",
       "      <td>0</td>\n",
       "    </tr>\n",
       "    <tr>\n",
       "      <th>175</th>\n",
       "      <td>92</td>\n",
       "      <td>1</td>\n",
       "      <td>145</td>\n",
       "      <td>65.3</td>\n",
       "      <td>123</td>\n",
       "      <td>96</td>\n",
       "      <td>2</td>\n",
       "      <td>1</td>\n",
       "      <td>0</td>\n",
       "      <td>1</td>\n",
       "      <td>1</td>\n",
       "      <td>1</td>\n",
       "    </tr>\n",
       "    <tr>\n",
       "      <th>176</th>\n",
       "      <td>29</td>\n",
       "      <td>2</td>\n",
       "      <td>123</td>\n",
       "      <td>70.3</td>\n",
       "      <td>180</td>\n",
       "      <td>85</td>\n",
       "      <td>2</td>\n",
       "      <td>0</td>\n",
       "      <td>1</td>\n",
       "      <td>1</td>\n",
       "      <td>0</td>\n",
       "      <td>0</td>\n",
       "    </tr>\n",
       "    <tr>\n",
       "      <th>177</th>\n",
       "      <td>19</td>\n",
       "      <td>1</td>\n",
       "      <td>145</td>\n",
       "      <td>80.3</td>\n",
       "      <td>145</td>\n",
       "      <td>87</td>\n",
       "      <td>3</td>\n",
       "      <td>1</td>\n",
       "      <td>0</td>\n",
       "      <td>0</td>\n",
       "      <td>1</td>\n",
       "      <td>1</td>\n",
       "    </tr>\n",
       "  </tbody>\n",
       "</table>\n",
       "<p>178 rows × 12 columns</p>\n",
       "</div>"
      ],
      "text/plain": [
       "     age  gender  height  weight  ap_hi  ap_io  cholesteral  glue  smoke  \\\n",
       "0     20       2     168    62.5    123     80            2     0      1   \n",
       "1     34       1     145    64.2    121     90            1     0      1   \n",
       "2     56       1     156    65.3    102     60            2     0      0   \n",
       "3     34       2     165    70.3    107     78            2     0      0   \n",
       "4     65       2     168    80.3    104     89            1     0      0   \n",
       "..   ...     ...     ...     ...    ...    ...          ...   ...    ...   \n",
       "173   82       1     163    43.6    123     93            1     0      2   \n",
       "174   73       2     138   123.4    176     84            2     0      0   \n",
       "175   92       1     145    65.3    123     96            2     1      0   \n",
       "176   29       2     123    70.3    180     85            2     0      1   \n",
       "177   19       1     145    80.3    145     87            3     1      0   \n",
       "\n",
       "     alco  active  cardio  \n",
       "0       0       1       0  \n",
       "1       0       0       1  \n",
       "2       0       1       1  \n",
       "3       1       0       0  \n",
       "4       1       1       1  \n",
       "..    ...     ...     ...  \n",
       "173     1       1       1  \n",
       "174     0       0       0  \n",
       "175     1       1       1  \n",
       "176     1       0       0  \n",
       "177     0       1       1  \n",
       "\n",
       "[178 rows x 12 columns]"
      ]
     },
     "execution_count": 23,
     "metadata": {},
     "output_type": "execute_result"
    }
   ],
   "source": [
    "df.drop('id',axis=1)"
   ]
  },
  {
   "cell_type": "code",
   "execution_count": 24,
   "id": "edbaf912",
   "metadata": {},
   "outputs": [
    {
     "data": {
      "text/plain": [
       "(178, 13)"
      ]
     },
     "execution_count": 24,
     "metadata": {},
     "output_type": "execute_result"
    }
   ],
   "source": [
    "df.shape"
   ]
  },
  {
   "cell_type": "code",
   "execution_count": 28,
   "id": "1498d40f",
   "metadata": {},
   "outputs": [],
   "source": [
    "from sklearn.preprocessing import LabelEncoder"
   ]
  },
  {
   "cell_type": "code",
   "execution_count": 30,
   "id": "345702b4",
   "metadata": {},
   "outputs": [
    {
     "name": "stderr",
     "output_type": "stream",
     "text": [
      "C:\\Users\\SOLAIM~1\\AppData\\Local\\Temp/ipykernel_8652/4274722626.py:2: DeprecationWarning: Converting `np.inexact` or `np.floating` to a dtype is deprecated. The current result is `float64` which is not strictly correct.\n",
      "  if df[column].dtype ==np.number:\n"
     ]
    }
   ],
   "source": [
    "for column in df.columns:\n",
    "    if df[column].dtype ==np.number:\n",
    "        continue\n",
    "    df[column]=LabelEncoder().fit_transform(df[column])"
   ]
  },
  {
   "cell_type": "code",
   "execution_count": 31,
   "id": "4336d951",
   "metadata": {},
   "outputs": [
    {
     "data": {
      "text/html": [
       "<div>\n",
       "<style scoped>\n",
       "    .dataframe tbody tr th:only-of-type {\n",
       "        vertical-align: middle;\n",
       "    }\n",
       "\n",
       "    .dataframe tbody tr th {\n",
       "        vertical-align: top;\n",
       "    }\n",
       "\n",
       "    .dataframe thead th {\n",
       "        text-align: right;\n",
       "    }\n",
       "</style>\n",
       "<table border=\"1\" class=\"dataframe\">\n",
       "  <thead>\n",
       "    <tr style=\"text-align: right;\">\n",
       "      <th></th>\n",
       "      <th>id</th>\n",
       "      <th>age</th>\n",
       "      <th>gender</th>\n",
       "      <th>height</th>\n",
       "      <th>weight</th>\n",
       "      <th>ap_hi</th>\n",
       "      <th>ap_io</th>\n",
       "      <th>cholesteral</th>\n",
       "      <th>glue</th>\n",
       "      <th>smoke</th>\n",
       "      <th>alco</th>\n",
       "      <th>active</th>\n",
       "      <th>cardio</th>\n",
       "    </tr>\n",
       "  </thead>\n",
       "  <tbody>\n",
       "    <tr>\n",
       "      <th>0</th>\n",
       "      <td>0</td>\n",
       "      <td>1</td>\n",
       "      <td>1</td>\n",
       "      <td>12</td>\n",
       "      <td>62.5</td>\n",
       "      <td>7</td>\n",
       "      <td>17</td>\n",
       "      <td>2</td>\n",
       "      <td>0</td>\n",
       "      <td>1</td>\n",
       "      <td>0</td>\n",
       "      <td>1</td>\n",
       "      <td>0</td>\n",
       "    </tr>\n",
       "    <tr>\n",
       "      <th>1</th>\n",
       "      <td>1</td>\n",
       "      <td>8</td>\n",
       "      <td>0</td>\n",
       "      <td>6</td>\n",
       "      <td>64.2</td>\n",
       "      <td>6</td>\n",
       "      <td>24</td>\n",
       "      <td>1</td>\n",
       "      <td>0</td>\n",
       "      <td>1</td>\n",
       "      <td>0</td>\n",
       "      <td>0</td>\n",
       "      <td>1</td>\n",
       "    </tr>\n",
       "    <tr>\n",
       "      <th>2</th>\n",
       "      <td>2</td>\n",
       "      <td>14</td>\n",
       "      <td>0</td>\n",
       "      <td>7</td>\n",
       "      <td>65.3</td>\n",
       "      <td>2</td>\n",
       "      <td>8</td>\n",
       "      <td>2</td>\n",
       "      <td>0</td>\n",
       "      <td>0</td>\n",
       "      <td>0</td>\n",
       "      <td>1</td>\n",
       "      <td>1</td>\n",
       "    </tr>\n",
       "    <tr>\n",
       "      <th>3</th>\n",
       "      <td>3</td>\n",
       "      <td>8</td>\n",
       "      <td>1</td>\n",
       "      <td>11</td>\n",
       "      <td>70.3</td>\n",
       "      <td>4</td>\n",
       "      <td>16</td>\n",
       "      <td>2</td>\n",
       "      <td>0</td>\n",
       "      <td>0</td>\n",
       "      <td>1</td>\n",
       "      <td>0</td>\n",
       "      <td>0</td>\n",
       "    </tr>\n",
       "    <tr>\n",
       "      <th>4</th>\n",
       "      <td>4</td>\n",
       "      <td>16</td>\n",
       "      <td>1</td>\n",
       "      <td>12</td>\n",
       "      <td>80.3</td>\n",
       "      <td>3</td>\n",
       "      <td>23</td>\n",
       "      <td>1</td>\n",
       "      <td>0</td>\n",
       "      <td>0</td>\n",
       "      <td>1</td>\n",
       "      <td>1</td>\n",
       "      <td>1</td>\n",
       "    </tr>\n",
       "    <tr>\n",
       "      <th>...</th>\n",
       "      <td>...</td>\n",
       "      <td>...</td>\n",
       "      <td>...</td>\n",
       "      <td>...</td>\n",
       "      <td>...</td>\n",
       "      <td>...</td>\n",
       "      <td>...</td>\n",
       "      <td>...</td>\n",
       "      <td>...</td>\n",
       "      <td>...</td>\n",
       "      <td>...</td>\n",
       "      <td>...</td>\n",
       "      <td>...</td>\n",
       "    </tr>\n",
       "    <tr>\n",
       "      <th>173</th>\n",
       "      <td>172</td>\n",
       "      <td>23</td>\n",
       "      <td>0</td>\n",
       "      <td>9</td>\n",
       "      <td>43.6</td>\n",
       "      <td>7</td>\n",
       "      <td>27</td>\n",
       "      <td>1</td>\n",
       "      <td>0</td>\n",
       "      <td>2</td>\n",
       "      <td>1</td>\n",
       "      <td>1</td>\n",
       "      <td>1</td>\n",
       "    </tr>\n",
       "    <tr>\n",
       "      <th>174</th>\n",
       "      <td>173</td>\n",
       "      <td>19</td>\n",
       "      <td>1</td>\n",
       "      <td>5</td>\n",
       "      <td>123.4</td>\n",
       "      <td>21</td>\n",
       "      <td>20</td>\n",
       "      <td>2</td>\n",
       "      <td>0</td>\n",
       "      <td>0</td>\n",
       "      <td>0</td>\n",
       "      <td>0</td>\n",
       "      <td>0</td>\n",
       "    </tr>\n",
       "    <tr>\n",
       "      <th>175</th>\n",
       "      <td>174</td>\n",
       "      <td>25</td>\n",
       "      <td>0</td>\n",
       "      <td>6</td>\n",
       "      <td>65.3</td>\n",
       "      <td>7</td>\n",
       "      <td>30</td>\n",
       "      <td>2</td>\n",
       "      <td>1</td>\n",
       "      <td>0</td>\n",
       "      <td>1</td>\n",
       "      <td>1</td>\n",
       "      <td>1</td>\n",
       "    </tr>\n",
       "    <tr>\n",
       "      <th>176</th>\n",
       "      <td>175</td>\n",
       "      <td>4</td>\n",
       "      <td>1</td>\n",
       "      <td>4</td>\n",
       "      <td>70.3</td>\n",
       "      <td>23</td>\n",
       "      <td>21</td>\n",
       "      <td>2</td>\n",
       "      <td>0</td>\n",
       "      <td>1</td>\n",
       "      <td>1</td>\n",
       "      <td>0</td>\n",
       "      <td>0</td>\n",
       "    </tr>\n",
       "    <tr>\n",
       "      <th>177</th>\n",
       "      <td>176</td>\n",
       "      <td>0</td>\n",
       "      <td>0</td>\n",
       "      <td>6</td>\n",
       "      <td>80.3</td>\n",
       "      <td>15</td>\n",
       "      <td>22</td>\n",
       "      <td>3</td>\n",
       "      <td>1</td>\n",
       "      <td>0</td>\n",
       "      <td>0</td>\n",
       "      <td>1</td>\n",
       "      <td>1</td>\n",
       "    </tr>\n",
       "  </tbody>\n",
       "</table>\n",
       "<p>178 rows × 13 columns</p>\n",
       "</div>"
      ],
      "text/plain": [
       "      id  age  gender  height  weight  ap_hi  ap_io  cholesteral  glue  smoke  \\\n",
       "0      0    1       1      12    62.5      7     17            2     0      1   \n",
       "1      1    8       0       6    64.2      6     24            1     0      1   \n",
       "2      2   14       0       7    65.3      2      8            2     0      0   \n",
       "3      3    8       1      11    70.3      4     16            2     0      0   \n",
       "4      4   16       1      12    80.3      3     23            1     0      0   \n",
       "..   ...  ...     ...     ...     ...    ...    ...          ...   ...    ...   \n",
       "173  172   23       0       9    43.6      7     27            1     0      2   \n",
       "174  173   19       1       5   123.4     21     20            2     0      0   \n",
       "175  174   25       0       6    65.3      7     30            2     1      0   \n",
       "176  175    4       1       4    70.3     23     21            2     0      1   \n",
       "177  176    0       0       6    80.3     15     22            3     1      0   \n",
       "\n",
       "     alco  active  cardio  \n",
       "0       0       1       0  \n",
       "1       0       0       1  \n",
       "2       0       1       1  \n",
       "3       1       0       0  \n",
       "4       1       1       1  \n",
       "..    ...     ...     ...  \n",
       "173     1       1       1  \n",
       "174     0       0       0  \n",
       "175     1       1       1  \n",
       "176     1       0       0  \n",
       "177     0       1       1  \n",
       "\n",
       "[178 rows x 13 columns]"
      ]
     },
     "execution_count": 31,
     "metadata": {},
     "output_type": "execute_result"
    }
   ],
   "source": [
    "df"
   ]
  },
  {
   "cell_type": "code",
   "execution_count": 32,
   "id": "bbd231b6",
   "metadata": {},
   "outputs": [],
   "source": [
    "x=df.drop('cardio',axis=1)"
   ]
  },
  {
   "cell_type": "code",
   "execution_count": 33,
   "id": "dc5bec5f",
   "metadata": {},
   "outputs": [
    {
     "data": {
      "text/html": [
       "<div>\n",
       "<style scoped>\n",
       "    .dataframe tbody tr th:only-of-type {\n",
       "        vertical-align: middle;\n",
       "    }\n",
       "\n",
       "    .dataframe tbody tr th {\n",
       "        vertical-align: top;\n",
       "    }\n",
       "\n",
       "    .dataframe thead th {\n",
       "        text-align: right;\n",
       "    }\n",
       "</style>\n",
       "<table border=\"1\" class=\"dataframe\">\n",
       "  <thead>\n",
       "    <tr style=\"text-align: right;\">\n",
       "      <th></th>\n",
       "      <th>id</th>\n",
       "      <th>age</th>\n",
       "      <th>gender</th>\n",
       "      <th>height</th>\n",
       "      <th>weight</th>\n",
       "      <th>ap_hi</th>\n",
       "      <th>ap_io</th>\n",
       "      <th>cholesteral</th>\n",
       "      <th>glue</th>\n",
       "      <th>smoke</th>\n",
       "      <th>alco</th>\n",
       "      <th>active</th>\n",
       "    </tr>\n",
       "  </thead>\n",
       "  <tbody>\n",
       "    <tr>\n",
       "      <th>0</th>\n",
       "      <td>0</td>\n",
       "      <td>1</td>\n",
       "      <td>1</td>\n",
       "      <td>12</td>\n",
       "      <td>62.5</td>\n",
       "      <td>7</td>\n",
       "      <td>17</td>\n",
       "      <td>2</td>\n",
       "      <td>0</td>\n",
       "      <td>1</td>\n",
       "      <td>0</td>\n",
       "      <td>1</td>\n",
       "    </tr>\n",
       "    <tr>\n",
       "      <th>1</th>\n",
       "      <td>1</td>\n",
       "      <td>8</td>\n",
       "      <td>0</td>\n",
       "      <td>6</td>\n",
       "      <td>64.2</td>\n",
       "      <td>6</td>\n",
       "      <td>24</td>\n",
       "      <td>1</td>\n",
       "      <td>0</td>\n",
       "      <td>1</td>\n",
       "      <td>0</td>\n",
       "      <td>0</td>\n",
       "    </tr>\n",
       "    <tr>\n",
       "      <th>2</th>\n",
       "      <td>2</td>\n",
       "      <td>14</td>\n",
       "      <td>0</td>\n",
       "      <td>7</td>\n",
       "      <td>65.3</td>\n",
       "      <td>2</td>\n",
       "      <td>8</td>\n",
       "      <td>2</td>\n",
       "      <td>0</td>\n",
       "      <td>0</td>\n",
       "      <td>0</td>\n",
       "      <td>1</td>\n",
       "    </tr>\n",
       "    <tr>\n",
       "      <th>3</th>\n",
       "      <td>3</td>\n",
       "      <td>8</td>\n",
       "      <td>1</td>\n",
       "      <td>11</td>\n",
       "      <td>70.3</td>\n",
       "      <td>4</td>\n",
       "      <td>16</td>\n",
       "      <td>2</td>\n",
       "      <td>0</td>\n",
       "      <td>0</td>\n",
       "      <td>1</td>\n",
       "      <td>0</td>\n",
       "    </tr>\n",
       "    <tr>\n",
       "      <th>4</th>\n",
       "      <td>4</td>\n",
       "      <td>16</td>\n",
       "      <td>1</td>\n",
       "      <td>12</td>\n",
       "      <td>80.3</td>\n",
       "      <td>3</td>\n",
       "      <td>23</td>\n",
       "      <td>1</td>\n",
       "      <td>0</td>\n",
       "      <td>0</td>\n",
       "      <td>1</td>\n",
       "      <td>1</td>\n",
       "    </tr>\n",
       "    <tr>\n",
       "      <th>...</th>\n",
       "      <td>...</td>\n",
       "      <td>...</td>\n",
       "      <td>...</td>\n",
       "      <td>...</td>\n",
       "      <td>...</td>\n",
       "      <td>...</td>\n",
       "      <td>...</td>\n",
       "      <td>...</td>\n",
       "      <td>...</td>\n",
       "      <td>...</td>\n",
       "      <td>...</td>\n",
       "      <td>...</td>\n",
       "    </tr>\n",
       "    <tr>\n",
       "      <th>173</th>\n",
       "      <td>172</td>\n",
       "      <td>23</td>\n",
       "      <td>0</td>\n",
       "      <td>9</td>\n",
       "      <td>43.6</td>\n",
       "      <td>7</td>\n",
       "      <td>27</td>\n",
       "      <td>1</td>\n",
       "      <td>0</td>\n",
       "      <td>2</td>\n",
       "      <td>1</td>\n",
       "      <td>1</td>\n",
       "    </tr>\n",
       "    <tr>\n",
       "      <th>174</th>\n",
       "      <td>173</td>\n",
       "      <td>19</td>\n",
       "      <td>1</td>\n",
       "      <td>5</td>\n",
       "      <td>123.4</td>\n",
       "      <td>21</td>\n",
       "      <td>20</td>\n",
       "      <td>2</td>\n",
       "      <td>0</td>\n",
       "      <td>0</td>\n",
       "      <td>0</td>\n",
       "      <td>0</td>\n",
       "    </tr>\n",
       "    <tr>\n",
       "      <th>175</th>\n",
       "      <td>174</td>\n",
       "      <td>25</td>\n",
       "      <td>0</td>\n",
       "      <td>6</td>\n",
       "      <td>65.3</td>\n",
       "      <td>7</td>\n",
       "      <td>30</td>\n",
       "      <td>2</td>\n",
       "      <td>1</td>\n",
       "      <td>0</td>\n",
       "      <td>1</td>\n",
       "      <td>1</td>\n",
       "    </tr>\n",
       "    <tr>\n",
       "      <th>176</th>\n",
       "      <td>175</td>\n",
       "      <td>4</td>\n",
       "      <td>1</td>\n",
       "      <td>4</td>\n",
       "      <td>70.3</td>\n",
       "      <td>23</td>\n",
       "      <td>21</td>\n",
       "      <td>2</td>\n",
       "      <td>0</td>\n",
       "      <td>1</td>\n",
       "      <td>1</td>\n",
       "      <td>0</td>\n",
       "    </tr>\n",
       "    <tr>\n",
       "      <th>177</th>\n",
       "      <td>176</td>\n",
       "      <td>0</td>\n",
       "      <td>0</td>\n",
       "      <td>6</td>\n",
       "      <td>80.3</td>\n",
       "      <td>15</td>\n",
       "      <td>22</td>\n",
       "      <td>3</td>\n",
       "      <td>1</td>\n",
       "      <td>0</td>\n",
       "      <td>0</td>\n",
       "      <td>1</td>\n",
       "    </tr>\n",
       "  </tbody>\n",
       "</table>\n",
       "<p>178 rows × 12 columns</p>\n",
       "</div>"
      ],
      "text/plain": [
       "      id  age  gender  height  weight  ap_hi  ap_io  cholesteral  glue  smoke  \\\n",
       "0      0    1       1      12    62.5      7     17            2     0      1   \n",
       "1      1    8       0       6    64.2      6     24            1     0      1   \n",
       "2      2   14       0       7    65.3      2      8            2     0      0   \n",
       "3      3    8       1      11    70.3      4     16            2     0      0   \n",
       "4      4   16       1      12    80.3      3     23            1     0      0   \n",
       "..   ...  ...     ...     ...     ...    ...    ...          ...   ...    ...   \n",
       "173  172   23       0       9    43.6      7     27            1     0      2   \n",
       "174  173   19       1       5   123.4     21     20            2     0      0   \n",
       "175  174   25       0       6    65.3      7     30            2     1      0   \n",
       "176  175    4       1       4    70.3     23     21            2     0      1   \n",
       "177  176    0       0       6    80.3     15     22            3     1      0   \n",
       "\n",
       "     alco  active  \n",
       "0       0       1  \n",
       "1       0       0  \n",
       "2       0       1  \n",
       "3       1       0  \n",
       "4       1       1  \n",
       "..    ...     ...  \n",
       "173     1       1  \n",
       "174     0       0  \n",
       "175     1       1  \n",
       "176     1       0  \n",
       "177     0       1  \n",
       "\n",
       "[178 rows x 12 columns]"
      ]
     },
     "execution_count": 33,
     "metadata": {},
     "output_type": "execute_result"
    }
   ],
   "source": [
    "x"
   ]
  },
  {
   "cell_type": "code",
   "execution_count": 34,
   "id": "b76553b8",
   "metadata": {},
   "outputs": [],
   "source": [
    "y = df['cardio']"
   ]
  },
  {
   "cell_type": "code",
   "execution_count": 35,
   "id": "698858f6",
   "metadata": {},
   "outputs": [
    {
     "data": {
      "text/plain": [
       "0      0\n",
       "1      1\n",
       "2      1\n",
       "3      0\n",
       "4      1\n",
       "      ..\n",
       "173    1\n",
       "174    0\n",
       "175    1\n",
       "176    0\n",
       "177    1\n",
       "Name: cardio, Length: 178, dtype: int64"
      ]
     },
     "execution_count": 35,
     "metadata": {},
     "output_type": "execute_result"
    }
   ],
   "source": [
    "y"
   ]
  },
  {
   "cell_type": "code",
   "execution_count": 38,
   "id": "889856e8",
   "metadata": {},
   "outputs": [],
   "source": [
    "from sklearn.preprocessing import StandardScaler"
   ]
  },
  {
   "cell_type": "code",
   "execution_count": 40,
   "id": "dcaf4681",
   "metadata": {},
   "outputs": [],
   "source": [
    "feature_x = StandardScaler().fit_transform(x)"
   ]
  },
  {
   "cell_type": "code",
   "execution_count": 41,
   "id": "11b4b5e5",
   "metadata": {},
   "outputs": [
    {
     "data": {
      "text/plain": [
       "array([[-1.72756239, -1.46725165,  0.88317609, ...,  0.43032581,\n",
       "        -1.02416838,  0.93471076],\n",
       "       [-1.70793601, -0.6539974 , -1.13227703, ...,  0.43032581,\n",
       "        -1.02416838, -1.06984967],\n",
       "       [-1.68830963,  0.04307767, -1.13227703, ..., -1.01491936,\n",
       "        -1.02416838,  0.93471076],\n",
       "       ...,\n",
       "       [ 1.68742755,  1.32104864, -1.13227703, ..., -1.01491936,\n",
       "         0.66381284,  0.93471076],\n",
       "       [ 1.70705392, -1.11871411,  0.88317609, ...,  0.43032581,\n",
       "         0.66381284, -1.06984967],\n",
       "       [ 1.7266803 , -1.58343083, -1.13227703, ..., -1.01491936,\n",
       "        -1.02416838,  0.93471076]])"
      ]
     },
     "execution_count": 41,
     "metadata": {},
     "output_type": "execute_result"
    }
   ],
   "source": [
    "feature_x"
   ]
  },
  {
   "cell_type": "code",
   "execution_count": 42,
   "id": "ce48959b",
   "metadata": {},
   "outputs": [],
   "source": [
    "from sklearn.model_selection import train_test_split"
   ]
  },
  {
   "cell_type": "code",
   "execution_count": 51,
   "id": "5022f45a",
   "metadata": {},
   "outputs": [],
   "source": [
    "xtrain,xtest,ytrain,ytest=train_test_split(feature_x,y,test_size=.25,random_state=42)"
   ]
  },
  {
   "cell_type": "code",
   "execution_count": 52,
   "id": "48ad95bd",
   "metadata": {},
   "outputs": [
    {
     "data": {
      "text/plain": [
       "array([[-1.35466119, -1.23489329, -1.13227703,  1.14302268,  0.53937269,\n",
       "         1.30806443, -1.77398336,  0.46580711, -0.9247212 ,  0.43032581,\n",
       "         0.66381284,  0.93471076],\n",
       "       [-0.84437534,  1.32104864, -1.13227703, -0.70846603, -0.6426321 ,\n",
       "        -1.17624999,  1.29725729,  0.46580711,  0.49424754, -1.01491936,\n",
       "         0.66381284,  0.93471076],\n",
       "       [ 1.00050428, -0.42163904,  0.88317609,  0.93730171,  0.59354791,\n",
       "        -1.03823253, -0.52273717,  1.89535307,  0.49424754, -1.01491936,\n",
       "        -1.02416838, -1.06984967],\n",
       "       [-1.13877102,  0.50779439,  0.88317609, -0.70846603,  0.0961209 ,\n",
       "         0.61797709,  1.18350763, -0.96373885,  0.49424754,  0.43032581,\n",
       "         0.66381284,  0.93471076],\n",
       "       [-0.412595  ,  1.43722782, -1.13227703, -0.09130313, -0.3963811 ,\n",
       "         1.17004696,  0.0460111 , -0.96373885,  0.49424754, -1.01491936,\n",
       "         0.66381284, -1.06984967],\n",
       "       [-1.41354032, -0.07310151, -1.13227703, -0.70846603,  0.43594727,\n",
       "        -0.48616265,  0.15976075, -0.96373885,  0.49424754, -1.01491936,\n",
       "        -1.02416838, -1.06984967],\n",
       "       [ 0.58835033,  0.50779439,  0.88317609, -0.70846603,  0.0961209 ,\n",
       "         0.61797709,  1.18350763, -0.96373885,  0.49424754,  0.43032581,\n",
       "         0.66381284,  0.93471076],\n",
       "       [ 1.66780117,  0.62397357,  0.88317609, -0.91418699,  2.2188045 ,\n",
       "         0.75599456,  0.15976075,  0.46580711, -0.9247212 , -1.01491936,\n",
       "        -1.02416838, -1.06984967],\n",
       "       [ 0.39208654, -0.07310151, -1.13227703,  1.96590655, -1.71136143,\n",
       "        -0.76219759, -0.63648683, -0.96373885,  0.49424754, -1.01491936,\n",
       "        -1.02416838, -1.06984967],\n",
       "       [ 1.02013066, -1.23489329, -1.13227703,  1.14302268,  0.53937269,\n",
       "         1.30806443, -1.77398336,  0.46580711, -0.9247212 ,  0.43032581,\n",
       "         0.66381284,  0.93471076],\n",
       "       [-1.25652929,  1.20486946,  0.88317609, -0.91418699,  0.59354791,\n",
       "        -0.76219759, -0.86398613, -0.96373885, -0.9247212 , -1.01491936,\n",
       "        -1.02416838,  0.93471076],\n",
       "       [ 1.19676807,  2.13430289, -1.13227703,  1.14302268,  0.43594727,\n",
       "         0.89401203,  0.95600833, -0.96373885,  1.91321628,  0.43032581,\n",
       "         0.66381284,  0.93471076],\n",
       "       [-0.92288085, -0.88635576,  0.88317609, -0.09130313,  0.59354791,\n",
       "        -0.07211025,  1.18350763, -0.96373885,  1.91321628,  0.43032581,\n",
       "        -1.02416838,  0.93471076],\n",
       "       [ 0.56872395,  0.15925685,  0.88317609, -0.70846603, -0.3963811 ,\n",
       "         0.47995962,  1.29725729,  0.46580711,  0.49424754, -1.01491936,\n",
       "        -1.02416838, -1.06984967],\n",
       "       [-1.4331667 , -1.23489329,  0.88317609, -0.50274506, -0.51458158,\n",
       "        -0.62418012, -0.06773856,  1.89535307, -0.9247212 ,  0.43032581,\n",
       "         0.66381284,  0.93471076],\n",
       "       [ 0.43133929,  0.85633192,  0.88317609,  0.93730171,  0.43594727,\n",
       "        -1.17624999, -1.66023371,  0.46580711,  0.49424754, -1.01491936,\n",
       "        -1.02416838, -1.06984967],\n",
       "       [ 0.47059205,  1.20486946,  0.88317609, -0.91418699,  0.59354791,\n",
       "        -0.76219759, -0.86398613, -0.96373885, -0.9247212 , -1.01491936,\n",
       "        -1.02416838,  0.93471076],\n",
       "       [-0.11819932, -0.88635576,  0.88317609, -0.09130313,  0.59354791,\n",
       "        -0.07211025,  1.18350763, -0.96373885,  1.91321628,  0.43032581,\n",
       "        -1.02416838,  0.93471076],\n",
       "       [-1.55092498, -0.6539974 ,  0.88317609, -0.29702409,  0.53937269,\n",
       "         0.75599456, -0.06773856, -0.96373885,  1.91321628,  1.87557098,\n",
       "        -1.02416838, -1.06984967],\n",
       "       [ 0.49021843, -1.46725165, -1.13227703, -0.70846603,  0.53937269,\n",
       "        -0.21012772, -0.97773579,  0.46580711, -0.9247212 , -1.01491936,\n",
       "         0.66381284, -1.06984967],\n",
       "       [-1.37428757, -0.42163904,  0.88317609,  0.93730171,  0.59354791,\n",
       "        -1.03823253, -0.52273717,  1.89535307,  0.49424754, -1.01491936,\n",
       "        -1.02416838, -1.06984967],\n",
       "       [-0.43222138,  0.9725111 , -1.13227703,  1.55446461,  2.2188045 ,\n",
       "         0.75599456, -1.4327344 ,  0.46580711, -0.9247212 ,  0.43032581,\n",
       "        -1.02416838,  0.93471076],\n",
       "       [-0.54997965, -1.35107247, -1.13227703,  0.93730171, -0.51458158,\n",
       "         0.75599456,  1.06975798,  0.46580711,  0.49424754,  0.43032581,\n",
       "        -1.02416838, -1.06984967],\n",
       "       [ 1.56966927, -0.77017658,  0.88317609,  1.34874364, -0.36190596,\n",
       "         1.58409937,  0.61475936,  0.46580711, -0.9247212 ,  0.43032581,\n",
       "         0.66381284,  0.93471076],\n",
       "       [ 1.60892203, -0.88635576,  0.88317609, -0.09130313,  0.59354791,\n",
       "        -0.07211025,  1.18350763, -0.96373885,  1.91321628,  0.43032581,\n",
       "        -1.02416838,  0.93471076],\n",
       "       [ 1.47153738, -1.11871411,  0.88317609, -1.11990796, -0.3963811 ,\n",
       "         1.03202949,  0.2735104 ,  0.46580711, -0.9247212 ,  0.43032581,\n",
       "         0.66381284, -1.06984967],\n",
       "       [ 0.54909757, -0.18928068,  0.88317609, -0.50274506, -0.6426321 ,\n",
       "         0.34194215,  1.41100694, -0.96373885, -0.9247212 , -1.01491936,\n",
       "         0.66381284,  0.93471076],\n",
       "       [-0.45184776, -0.42163904,  0.88317609,  1.34874364, -1.71136143,\n",
       "         0.06590722, -1.31898475, -0.96373885,  0.49424754, -1.01491936,\n",
       "         0.66381284, -1.06984967],\n",
       "       [ 0.03881172,  1.553407  ,  0.88317609, -1.32562893,  0.57384783,\n",
       "        -2.14237227, -2.11523233, -0.96373885, -0.9247212 , -1.01491936,\n",
       "         0.66381284, -1.06984967],\n",
       "       [-0.64811155,  0.85633192,  0.88317609,  0.93730171,  0.43594727,\n",
       "        -1.17624999, -1.66023371,  0.46580711,  0.49424754, -1.01491936,\n",
       "        -1.02416838, -1.06984967],\n",
       "       [-1.1583974 ,  0.15925685,  0.88317609, -0.70846603, -0.3963811 ,\n",
       "         0.47995962,  1.29725729,  0.46580711,  0.49424754, -1.01491936,\n",
       "        -1.02416838, -1.06984967],\n",
       "       [ 0.76498774, -0.77017658,  0.88317609,  1.34874364, -0.36190596,\n",
       "         1.58409937,  0.61475936,  0.46580711, -0.9247212 ,  0.43032581,\n",
       "         0.66381284,  0.93471076],\n",
       "       [ 1.09863618,  0.9725111 ,  0.88317609, -0.09130313, -0.55398174,\n",
       "        -0.90021506, -1.88773302,  0.46580711, -0.9247212 ,  0.43032581,\n",
       "         0.66381284, -1.06984967],\n",
       "       [-1.11914464, -1.35107247, -1.13227703,  0.93730171, -0.51458158,\n",
       "         0.75599456,  1.06975798,  0.46580711,  0.49424754,  0.43032581,\n",
       "        -1.02416838, -1.06984967],\n",
       "       [-1.49204584,  1.32104864, -1.13227703, -0.70846603, -0.6426321 ,\n",
       "        -1.17624999,  1.29725729,  0.46580711,  0.49424754, -1.01491936,\n",
       "         0.66381284,  0.93471076],\n",
       "       [-0.90325447, -0.6539974 ,  0.88317609, -0.29702409,  0.53937269,\n",
       "         0.75599456, -0.06773856, -0.96373885,  1.91321628,  1.87557098,\n",
       "        -1.02416838, -1.06984967],\n",
       "       [ 1.3537791 , -0.6539974 , -1.13227703,  1.76018558, -0.55398174,\n",
       "        -0.90021506, -0.29523787,  0.46580711,  0.49424754,  0.43032581,\n",
       "         2.35179405, -1.06984967],\n",
       "       [ 0.94162515, -1.23489329,  0.88317609, -0.50274506, -0.51458158,\n",
       "        -0.62418012, -0.06773856,  1.89535307, -0.9247212 ,  0.43032581,\n",
       "         0.66381284,  0.93471076],\n",
       "       [ 0.17619637, -0.6539974 ,  0.88317609, -0.29702409,  0.53937269,\n",
       "         0.75599456, -0.06773856, -0.96373885,  1.91321628,  1.87557098,\n",
       "        -1.02416838, -1.06984967],\n",
       "       [ 1.37340548, -0.88635576,  0.88317609, -0.09130313,  0.59354791,\n",
       "        -0.07211025,  1.18350763, -0.96373885,  1.91321628,  0.43032581,\n",
       "        -1.02416838,  0.93471076],\n",
       "       [-0.98175999,  1.43722782, -1.13227703, -0.09130313, -0.3963811 ,\n",
       "         1.17004696,  0.0460111 , -0.96373885,  0.49424754, -1.01491936,\n",
       "         0.66381284, -1.06984967],\n",
       "       [ 0.37246016, -1.23489329, -1.13227703,  1.14302268,  0.53937269,\n",
       "         1.30806443, -1.77398336,  0.46580711, -0.9247212 ,  0.43032581,\n",
       "         0.66381284,  0.93471076],\n",
       "       [-0.05932018,  0.62397357,  0.88317609, -0.91418699,  2.2188045 ,\n",
       "         0.75599456,  0.15976075,  0.46580711, -0.9247212 , -1.01491936,\n",
       "        -1.02416838, -1.06984967],\n",
       "       [-0.39296862, -0.77017658,  0.88317609,  1.34874364, -0.36190596,\n",
       "         1.58409937,  0.61475936,  0.46580711, -0.9247212 ,  0.43032581,\n",
       "         0.66381284,  0.93471076],\n",
       "       [ 1.05938342,  0.04307767,  0.88317609, -1.11990796,  2.2188045 ,\n",
       "         1.72211683, -0.52273717, -0.96373885, -0.9247212 ,  0.43032581,\n",
       "         0.66381284,  0.93471076]])"
      ]
     },
     "execution_count": 52,
     "metadata": {},
     "output_type": "execute_result"
    }
   ],
   "source": [
    "xtest"
   ]
  },
  {
   "cell_type": "markdown",
   "id": "a44d07b0",
   "metadata": {},
   "source": [
    "# Logistic Regression"
   ]
  },
  {
   "cell_type": "code",
   "execution_count": 54,
   "id": "3b627716",
   "metadata": {},
   "outputs": [],
   "source": [
    "from sklearn.linear_model import LogisticRegression"
   ]
  },
  {
   "cell_type": "code",
   "execution_count": 55,
   "id": "2e5057c8",
   "metadata": {},
   "outputs": [],
   "source": [
    "model = LogisticRegression()"
   ]
  },
  {
   "cell_type": "code",
   "execution_count": 56,
   "id": "62663c76",
   "metadata": {},
   "outputs": [
    {
     "data": {
      "text/plain": [
       "LogisticRegression()"
      ]
     },
     "execution_count": 56,
     "metadata": {},
     "output_type": "execute_result"
    }
   ],
   "source": [
    "model.fit(xtrain,ytrain)"
   ]
  },
  {
   "cell_type": "code",
   "execution_count": 57,
   "id": "1d9e370b",
   "metadata": {},
   "outputs": [],
   "source": [
    "pre=model.predict(xtest)"
   ]
  },
  {
   "cell_type": "code",
   "execution_count": 58,
   "id": "79ed7b8d",
   "metadata": {},
   "outputs": [
    {
     "data": {
      "text/plain": [
       "array([1, 1, 0, 0, 1, 1, 0, 0, 0, 1, 1, 1, 0, 0, 1, 0, 1, 0, 0, 0, 0, 1,\n",
       "       1, 0, 0, 0, 0, 0, 0, 0, 0, 0, 0, 1, 1, 0, 0, 1, 0, 0, 1, 1, 0, 0,\n",
       "       0], dtype=int64)"
      ]
     },
     "execution_count": 58,
     "metadata": {},
     "output_type": "execute_result"
    }
   ],
   "source": [
    "pre"
   ]
  },
  {
   "cell_type": "code",
   "execution_count": 62,
   "id": "d31ed4a4",
   "metadata": {},
   "outputs": [],
   "source": [
    "from sklearn.metrics import accuracy_score\n"
   ]
  },
  {
   "cell_type": "code",
   "execution_count": 63,
   "id": "6822a29b",
   "metadata": {},
   "outputs": [
    {
     "data": {
      "text/plain": [
       "0.6666666666666666"
      ]
     },
     "execution_count": 63,
     "metadata": {},
     "output_type": "execute_result"
    }
   ],
   "source": [
    "accuracy_score(ytest,pre)"
   ]
  },
  {
   "cell_type": "code",
   "execution_count": 64,
   "id": "4abdf441",
   "metadata": {},
   "outputs": [
    {
     "ename": "ImportError",
     "evalue": "cannot import name 'Confusion_Matrix' from 'sklearn.metrics' (C:\\ProgramData\\Anaconda3\\lib\\site-packages\\sklearn\\metrics\\__init__.py)",
     "output_type": "error",
     "traceback": [
      "\u001b[1;31m---------------------------------------------------------------------------\u001b[0m",
      "\u001b[1;31mImportError\u001b[0m                               Traceback (most recent call last)",
      "\u001b[1;32mC:\\Users\\SOLAIM~1\\AppData\\Local\\Temp/ipykernel_8652/3787555929.py\u001b[0m in \u001b[0;36m<module>\u001b[1;34m\u001b[0m\n\u001b[1;32m----> 1\u001b[1;33m \u001b[1;32mfrom\u001b[0m \u001b[0msklearn\u001b[0m\u001b[1;33m.\u001b[0m\u001b[0mmetrics\u001b[0m \u001b[1;32mimport\u001b[0m \u001b[0mConfusion_Matrix\u001b[0m\u001b[1;33m\u001b[0m\u001b[1;33m\u001b[0m\u001b[0m\n\u001b[0m",
      "\u001b[1;31mImportError\u001b[0m: cannot import name 'Confusion_Matrix' from 'sklearn.metrics' (C:\\ProgramData\\Anaconda3\\lib\\site-packages\\sklearn\\metrics\\__init__.py)"
     ]
    }
   ],
   "source": [
    "from sklearn.metrics import confusion_matrix"
   ]
  },
  {
   "cell_type": "code",
   "execution_count": null,
   "id": "48de5711",
   "metadata": {},
   "outputs": [],
   "source": []
  }
 ],
 "metadata": {
  "kernelspec": {
   "display_name": "Python 3 (ipykernel)",
   "language": "python",
   "name": "python3"
  },
  "language_info": {
   "codemirror_mode": {
    "name": "ipython",
    "version": 3
   },
   "file_extension": ".py",
   "mimetype": "text/x-python",
   "name": "python",
   "nbconvert_exporter": "python",
   "pygments_lexer": "ipython3",
   "version": "3.9.7"
  }
 },
 "nbformat": 4,
 "nbformat_minor": 5
}
