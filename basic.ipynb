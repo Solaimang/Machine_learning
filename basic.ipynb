{
 "cells": [
  {
   "cell_type": "code",
   "execution_count": 2,
   "id": "22b2d105",
   "metadata": {},
   "outputs": [],
   "source": [
    "import numpy as np\n"
   ]
  },
  {
   "cell_type": "code",
   "execution_count": 3,
   "id": "f8f07ae6",
   "metadata": {},
   "outputs": [],
   "source": [
    "data = np.random.randn(30)"
   ]
  },
  {
   "cell_type": "code",
   "execution_count": 4,
   "id": "8182f0c8",
   "metadata": {},
   "outputs": [
    {
     "data": {
      "text/plain": [
       "array([-1.31102287,  0.83474405, -1.23531423, -0.42615468, -0.34450977,\n",
       "        0.10964486, -0.00941557, -0.41795992,  0.5161598 , -0.07408332,\n",
       "        0.01133458, -1.09527986,  1.37311993, -0.96234661,  1.10490566,\n",
       "        0.78726003,  0.48698455, -0.41138156,  1.19313358,  0.53846418,\n",
       "       -1.2279935 , -0.80510392,  0.29641143, -0.79709414, -0.11458928,\n",
       "       -1.56996039,  1.05926701,  0.06460107, -0.64020533, -0.96273308])"
      ]
     },
     "execution_count": 4,
     "metadata": {},
     "output_type": "execute_result"
    }
   ],
   "source": [
    "data"
   ]
  },
  {
   "cell_type": "code",
   "execution_count": 5,
   "id": "3af4cc5d",
   "metadata": {},
   "outputs": [],
   "source": [
    "sample = np.random.choice(data,15)"
   ]
  },
  {
   "cell_type": "code",
   "execution_count": 6,
   "id": "6f5148b0",
   "metadata": {},
   "outputs": [
    {
     "data": {
      "text/plain": [
       "array([-1.09527986, -1.09527986,  0.83474405, -0.11458928,  0.06460107,\n",
       "        0.48698455,  1.37311993, -1.09527986,  1.05926701,  0.5161598 ,\n",
       "        1.19313358,  0.53846418, -0.41795992, -0.79709414, -1.09527986])"
      ]
     },
     "execution_count": 6,
     "metadata": {},
     "output_type": "execute_result"
    }
   ],
   "source": [
    "sample"
   ]
  },
  {
   "cell_type": "code",
   "execution_count": 7,
   "id": "1a2894d9",
   "metadata": {},
   "outputs": [],
   "source": [
    "num_std = np.std(data)"
   ]
  },
  {
   "cell_type": "code",
   "execution_count": 8,
   "id": "fe1a829d",
   "metadata": {},
   "outputs": [
    {
     "data": {
      "text/plain": [
       "0.8155062410022401"
      ]
     },
     "execution_count": 8,
     "metadata": {},
     "output_type": "execute_result"
    }
   ],
   "source": [
    "num_std"
   ]
  },
  {
   "cell_type": "code",
   "execution_count": 10,
   "id": "b5f5b758",
   "metadata": {},
   "outputs": [],
   "source": [
    "sample_std = np.std(sample)"
   ]
  },
  {
   "cell_type": "code",
   "execution_count": 11,
   "id": "a89c9f45",
   "metadata": {},
   "outputs": [
    {
     "data": {
      "text/plain": [
       "array([-1.09527986, -1.09527986,  0.83474405, -0.11458928,  0.06460107,\n",
       "        0.48698455,  1.37311993, -1.09527986,  1.05926701,  0.5161598 ,\n",
       "        1.19313358,  0.53846418, -0.41795992, -0.79709414, -1.09527986])"
      ]
     },
     "execution_count": 11,
     "metadata": {},
     "output_type": "execute_result"
    }
   ],
   "source": [
    "sample_"
   ]
  },
  {
   "cell_type": "code",
   "execution_count": null,
   "id": "111e47ab",
   "metadata": {},
   "outputs": [],
   "source": []
  }
 ],
 "metadata": {
  "kernelspec": {
   "display_name": "Python 3 (ipykernel)",
   "language": "python",
   "name": "python3"
  },
  "language_info": {
   "codemirror_mode": {
    "name": "ipython",
    "version": 3
   },
   "file_extension": ".py",
   "mimetype": "text/x-python",
   "name": "python",
   "nbconvert_exporter": "python",
   "pygments_lexer": "ipython3",
   "version": "3.9.7"
  }
 },
 "nbformat": 4,
 "nbformat_minor": 5
}
