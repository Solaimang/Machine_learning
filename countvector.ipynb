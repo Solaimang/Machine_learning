{
 "cells": [
  {
   "cell_type": "code",
   "execution_count": 38,
   "id": "5f5c34f8",
   "metadata": {},
   "outputs": [],
   "source": [
    "from sklearn.feature_extraction.text import CountVectorizer"
   ]
  },
  {
   "cell_type": "code",
   "execution_count": 39,
   "id": "d23e739f",
   "metadata": {},
   "outputs": [],
   "source": [
    "dataset = ['how are data',\n",
    "           'I am fine and you',\n",
    "           'I am very well',\n",
    "           'What do you do do do do',\n",
    "           ' I am sleep now ',\n",
    "           'data said to me I love you solaiman',\n",
    "           'ok baye'\n",
    "          ]"
   ]
  },
  {
   "cell_type": "code",
   "execution_count": 40,
   "id": "31e47561",
   "metadata": {},
   "outputs": [],
   "source": [
    "cv =  CountVectorizer()\n",
    "x = cv.fit_transform(dataset)"
   ]
  },
  {
   "cell_type": "code",
   "execution_count": 41,
   "id": "65beb9c3",
   "metadata": {},
   "outputs": [
    {
     "data": {
      "text/plain": [
       "['am',\n",
       " 'and',\n",
       " 'are',\n",
       " 'baye',\n",
       " 'data',\n",
       " 'do',\n",
       " 'fine',\n",
       " 'how',\n",
       " 'love',\n",
       " 'me',\n",
       " 'now',\n",
       " 'ok',\n",
       " 'said',\n",
       " 'sleep',\n",
       " 'solaiman',\n",
       " 'to',\n",
       " 'very',\n",
       " 'well',\n",
       " 'what',\n",
       " 'you']"
      ]
     },
     "execution_count": 41,
     "metadata": {},
     "output_type": "execute_result"
    }
   ],
   "source": [
    "cv.get_feature_names()"
   ]
  },
  {
   "cell_type": "code",
   "execution_count": 42,
   "id": "a0abb6d2",
   "metadata": {},
   "outputs": [
    {
     "data": {
      "text/plain": [
       "array([[0, 0, 1, 0, 1, 0, 0, 1, 0, 0, 0, 0, 0, 0, 0, 0, 0, 0, 0, 0],\n",
       "       [1, 1, 0, 0, 0, 0, 1, 0, 0, 0, 0, 0, 0, 0, 0, 0, 0, 0, 0, 1],\n",
       "       [1, 0, 0, 0, 0, 0, 0, 0, 0, 0, 0, 0, 0, 0, 0, 0, 1, 1, 0, 0],\n",
       "       [0, 0, 0, 0, 0, 5, 0, 0, 0, 0, 0, 0, 0, 0, 0, 0, 0, 0, 1, 1],\n",
       "       [1, 0, 0, 0, 0, 0, 0, 0, 0, 0, 1, 0, 0, 1, 0, 0, 0, 0, 0, 0],\n",
       "       [0, 0, 0, 0, 1, 0, 0, 0, 1, 1, 0, 0, 1, 0, 1, 1, 0, 0, 0, 1],\n",
       "       [0, 0, 0, 1, 0, 0, 0, 0, 0, 0, 0, 1, 0, 0, 0, 0, 0, 0, 0, 0]],\n",
       "      dtype=int64)"
      ]
     },
     "execution_count": 42,
     "metadata": {},
     "output_type": "execute_result"
    }
   ],
   "source": [
    "x.toarray()"
   ]
  },
  {
   "cell_type": "code",
   "execution_count": null,
   "id": "0b9443b7",
   "metadata": {},
   "outputs": [],
   "source": []
  }
 ],
 "metadata": {
  "kernelspec": {
   "display_name": "Python 3 (ipykernel)",
   "language": "python",
   "name": "python3"
  },
  "language_info": {
   "codemirror_mode": {
    "name": "ipython",
    "version": 3
   },
   "file_extension": ".py",
   "mimetype": "text/x-python",
   "name": "python",
   "nbconvert_exporter": "python",
   "pygments_lexer": "ipython3",
   "version": "3.9.7"
  }
 },
 "nbformat": 4,
 "nbformat_minor": 5
}
