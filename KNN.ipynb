{
 "cells": [
  {
   "cell_type": "code",
   "execution_count": 76,
   "id": "1240fc7c",
   "metadata": {},
   "outputs": [],
   "source": [
    "weather = ['Sunny','Sunny','Overcase','Overcase','Rainy','Rainy','Rainy','Sunny','sunny','Overcase','Rainy','Rainy','Rainy','Overcase']"
   ]
  },
  {
   "cell_type": "code",
   "execution_count": 77,
   "id": "367b3d3d",
   "metadata": {},
   "outputs": [],
   "source": [
    "temp =['hot','hot','cool','cool','cool','mid','cool','cool','mid','cool','cool','mid','cool','cool']\n"
   ]
  },
  {
   "cell_type": "code",
   "execution_count": 78,
   "id": "1353c4b4",
   "metadata": {},
   "outputs": [],
   "source": [
    "play =['yes','no','yes','yes','yes','yes','yes','yes','no','no','no','no','yes','no']"
   ]
  },
  {
   "cell_type": "code",
   "execution_count": 81,
   "id": "4e14581a",
   "metadata": {},
   "outputs": [],
   "source": [
    "from sklearn.preprocessing import LabelEncoder"
   ]
  },
  {
   "cell_type": "code",
   "execution_count": 82,
   "id": "7751e2cc",
   "metadata": {},
   "outputs": [],
   "source": [
    "le = LabelEncoder()"
   ]
  },
  {
   "cell_type": "code",
   "execution_count": 83,
   "id": "1f49436e",
   "metadata": {},
   "outputs": [],
   "source": [
    "weather_num=le.fit_transform(weather)"
   ]
  },
  {
   "cell_type": "code",
   "execution_count": 91,
   "id": "2c5dce5f",
   "metadata": {},
   "outputs": [
    {
     "data": {
      "text/plain": [
       "array([2, 2, 0, 0, 1, 1, 1, 2, 3, 0, 1, 1, 1, 0], dtype=int64)"
      ]
     },
     "execution_count": 91,
     "metadata": {},
     "output_type": "execute_result"
    }
   ],
   "source": [
    "weather_num"
   ]
  },
  {
   "cell_type": "code",
   "execution_count": 93,
   "id": "d48ef86d",
   "metadata": {},
   "outputs": [],
   "source": [
    "play_num=le.fit_transform(play)"
   ]
  },
  {
   "cell_type": "code",
   "execution_count": 95,
   "id": "45748e20",
   "metadata": {},
   "outputs": [
    {
     "data": {
      "text/plain": [
       "array([1, 0, 1, 1, 1, 1, 1, 1, 0, 0, 0, 0, 1, 0], dtype=int64)"
      ]
     },
     "execution_count": 95,
     "metadata": {},
     "output_type": "execute_result"
    }
   ],
   "source": [
    "play_num"
   ]
  },
  {
   "cell_type": "code",
   "execution_count": 96,
   "id": "0601fc58",
   "metadata": {},
   "outputs": [],
   "source": [
    "temp_num=le.fit_transform(temp)"
   ]
  },
  {
   "cell_type": "code",
   "execution_count": 98,
   "id": "7f3d2ca9",
   "metadata": {},
   "outputs": [
    {
     "data": {
      "text/plain": [
       "array([1, 1, 0, 0, 0, 2, 0, 0, 2, 0, 0, 2, 0, 0], dtype=int64)"
      ]
     },
     "execution_count": 98,
     "metadata": {},
     "output_type": "execute_result"
    }
   ],
   "source": [
    "temp_num"
   ]
  },
  {
   "cell_type": "code",
   "execution_count": 101,
   "id": "48ad1394",
   "metadata": {},
   "outputs": [],
   "source": [
    "indep = list(zip(weather_num,temp_num))"
   ]
  },
  {
   "cell_type": "code",
   "execution_count": 102,
   "id": "735c884c",
   "metadata": {},
   "outputs": [
    {
     "data": {
      "text/plain": [
       "[(2, 1),\n",
       " (2, 1),\n",
       " (0, 0),\n",
       " (0, 0),\n",
       " (1, 0),\n",
       " (1, 2),\n",
       " (1, 0),\n",
       " (2, 0),\n",
       " (3, 2),\n",
       " (0, 0),\n",
       " (1, 0),\n",
       " (1, 2),\n",
       " (1, 0),\n",
       " (0, 0)]"
      ]
     },
     "execution_count": 102,
     "metadata": {},
     "output_type": "execute_result"
    }
   ],
   "source": [
    "indep"
   ]
  },
  {
   "cell_type": "code",
   "execution_count": 103,
   "id": "5c569b3a",
   "metadata": {},
   "outputs": [],
   "source": [
    "from sklearn.neighbors import KNeighborsClassifier"
   ]
  },
  {
   "cell_type": "code",
   "execution_count": 104,
   "id": "6f209096",
   "metadata": {},
   "outputs": [],
   "source": [
    "model =  KNeighborsClassifier(n_neighbors=3)"
   ]
  },
  {
   "cell_type": "code",
   "execution_count": 105,
   "id": "e894cad1",
   "metadata": {},
   "outputs": [
    {
     "data": {
      "text/plain": [
       "KNeighborsClassifier(n_neighbors=3)"
      ]
     },
     "execution_count": 105,
     "metadata": {},
     "output_type": "execute_result"
    }
   ],
   "source": [
    "model.fit(indep,play_num)"
   ]
  },
  {
   "cell_type": "code",
   "execution_count": 108,
   "id": "c477eff0",
   "metadata": {},
   "outputs": [],
   "source": [
    "prediction = model.predict([[3,2]])"
   ]
  },
  {
   "cell_type": "code",
   "execution_count": 109,
   "id": "1977a64b",
   "metadata": {},
   "outputs": [
    {
     "data": {
      "text/plain": [
       "array([0], dtype=int64)"
      ]
     },
     "execution_count": 109,
     "metadata": {},
     "output_type": "execute_result"
    }
   ],
   "source": [
    "prediction"
   ]
  },
  {
   "cell_type": "code",
   "execution_count": null,
   "id": "d21533ee",
   "metadata": {},
   "outputs": [],
   "source": []
  }
 ],
 "metadata": {
  "kernelspec": {
   "display_name": "Python 3 (ipykernel)",
   "language": "python",
   "name": "python3"
  },
  "language_info": {
   "codemirror_mode": {
    "name": "ipython",
    "version": 3
   },
   "file_extension": ".py",
   "mimetype": "text/x-python",
   "name": "python",
   "nbconvert_exporter": "python",
   "pygments_lexer": "ipython3",
   "version": "3.9.7"
  }
 },
 "nbformat": 4,
 "nbformat_minor": 5
}
